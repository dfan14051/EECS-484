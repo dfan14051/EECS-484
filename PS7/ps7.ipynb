{
 "cells": [
  {
   "cell_type": "code",
   "execution_count": 150,
   "metadata": {},
   "outputs": [],
   "source": [
    "import matplotlib.pyplot as plt\n",
    "import numpy as np\n",
    "import tensorflow as tf\n",
    "\n",
    "from keras.models import Sequential\n",
    "from keras.layers.core import Dense, Dropout, Activation\n",
    "from keras.optimizers import SGD"
   ]
  },
  {
   "cell_type": "code",
   "execution_count": 107,
   "metadata": {},
   "outputs": [],
   "source": [
    "sess = tf.Session()\n",
    "init_var = tf.global_variables_initializer()\n",
    "sess.run(init_var)"
   ]
  },
  {
   "cell_type": "code",
   "execution_count": 58,
   "metadata": {},
   "outputs": [
    {
     "name": "stdout",
     "output_type": "stream",
     "text": [
      "[[3.         4.         1.         1.         0.65765766 0.25\n",
      "  1.         0.8        0.         0.57142857 0.40765391 1.        ]\n",
      " [7.         4.         1.         3.         0.65765766 0.25\n",
      "  0.93366093 0.         1.         1.         0.66139767 0.5       ]]\n",
      "[0.33097762 0.26266196]\n"
     ]
    }
   ],
   "source": [
    "# Load data\n",
    "inputs = np.genfromtxt ('basf_inputs_rand_normalized.csv', delimiter=\",\")\n",
    "targets = np.genfromtxt ('basf_targets_rand_normalized.csv', delimiter=\",\")\n",
    "\n",
    "print(inputs[0:2, :])\n",
    "print(targets[0:2])"
   ]
  },
  {
   "cell_type": "code",
   "execution_count": 126,
   "metadata": {},
   "outputs": [
    {
     "name": "stdout",
     "output_type": "stream",
     "text": [
      "Number of examples: 1029\n",
      "[[3.         4.         1.         1.         0.65765766 0.25\n",
      "  1.         0.8        0.         0.57142857 0.40765391 1.        ]\n",
      " [7.         4.         1.         3.         0.65765766 0.25\n",
      "  0.93366093 0.         1.         1.         0.66139767 0.5       ]]\n"
     ]
    }
   ],
   "source": [
    "data = inputs\n",
    "\n",
    "print(\"Number of examples: %i\" % n)\n",
    "print(data[0:2, :])"
   ]
  },
  {
   "cell_type": "code",
   "execution_count": 119,
   "metadata": {},
   "outputs": [
    {
     "name": "stdout",
     "output_type": "stream",
     "text": [
      "[[0.         0.         0.         ... 0.4076539  1.         0.33097762]\n",
      " [0.         0.         0.         ... 0.6613977  0.5        0.26266196]\n",
      " [0.         0.         1.         ... 0.7121464  0.33333334 0.10600707]\n",
      " ...\n",
      " [0.         0.         0.         ... 0.36439267 1.         0.34393403]\n",
      " [0.         0.         0.         ... 0.42845258 0.33333334 0.02120141]\n",
      " [0.         1.         0.         ... 0.68053246 0.5        0.29799765]]\n"
     ]
    }
   ],
   "source": [
    "def convert_to_onehot(data):\n",
    "    one_hots = []\n",
    "    for i in range(4):\n",
    "        depth = np.max(data[:, i])\n",
    "        indicies = data[:, i]\n",
    "        casted_indicies = tf.cast(indicies, tf.int32)\n",
    "        one_hot = tf.one_hot(casted_indicies, depth)\n",
    "        one_hots.append(one_hot)\n",
    "    concat_one_hot = tf.concat(one_hots[:], 1)\n",
    "    onehot_data = tf.concat([concat_one_hot, data[:, 4:]], 1)\n",
    "    print(sess.run(onehot_data))\n",
    "    return onehot_data\n",
    "    \n",
    "onehot_data = convert_to_onehot(data)"
   ]
  },
  {
   "cell_type": "code",
   "execution_count": 128,
   "metadata": {},
   "outputs": [
    {
     "name": "stdout",
     "output_type": "stream",
     "text": [
      "[[0.         0.         0.         1.         0.         0.\n",
      "  0.         0.         0.         0.         0.         0.\n",
      "  0.         0.         1.         0.         0.         0.6576577\n",
      "  0.25       1.         0.8        0.         0.5714286  0.4076539\n",
      "  1.         0.33097762]\n",
      " [0.         0.         0.         0.         0.         0.\n",
      "  0.         1.         0.         0.         0.         0.\n",
      "  0.         0.         0.         0.         1.         0.6576577\n",
      "  0.25       0.9336609  0.         1.         1.         0.6613977\n",
      "  0.5        0.26266196]]\n",
      "[[0.         1.         0.         0.         0.         0.\n",
      "  0.         0.         0.         0.         0.         1.\n",
      "  1.         0.         1.         0.         0.         0.53783786\n",
      "  1.         0.8108108  0.8        0.         0.5714286  0.39767054\n",
      "  0.75       0.1696113 ]\n",
      " [0.         0.         0.         0.         0.         1.\n",
      "  0.         0.         0.         0.         1.         0.\n",
      "  0.         0.         0.         0.         1.         0.5315315\n",
      "  0.25       0.9336609  0.8        0.         0.5714286  0.6647255\n",
      "  0.5        0.17078917]]\n",
      "[[0.         1.         0.         0.         0.         0.\n",
      "  0.         0.         0.         0.         0.         1.\n",
      "  1.         0.         0.         0.         0.         0.3963964\n",
      "  0.375      0.9336609  0.8        0.         0.5714286  0.39351082\n",
      "  0.75       0.04004711]\n",
      " [0.         0.         0.         1.         0.         0.\n",
      "  0.         0.         0.         0.         0.         0.\n",
      "  0.         0.         1.         0.         0.         0.6216216\n",
      "  1.         1.         0.8        0.         0.5714286  0.4359401\n",
      "  0.5        0.08480565]]\n"
     ]
    }
   ],
   "source": [
    "training_x = onehot_data[0:799, :]\n",
    "training_y = targets[0:799]\n",
    "validation_x = onehot_data[800:999, :]\n",
    "validation_y = targets[800:999]\n",
    "test_x = onehot_data[1000:, :]\n",
    "test_y = targets[1000:]\n",
    "\n",
    "print(sess.run(training[0:2, :]))\n",
    "print(sess.run(validation[0:2, :]))\n",
    "print(sess.run(test[0:2, :]))"
   ]
  },
  {
   "cell_type": "code",
   "execution_count": 152,
   "metadata": {},
   "outputs": [
    {
     "name": "stdout",
     "output_type": "stream",
     "text": [
      "Train on 799 samples, validate on 199 samples\n",
      "Epoch 1/100\n",
      "44/44 [==============================] - 0s 5ms/step - loss: 0.0594 - val_loss: 0.0473\n",
      "Epoch 2/100\n",
      "44/44 [==============================] - 0s 696us/step - loss: 0.0416 - val_loss: 0.0469\n",
      "Epoch 3/100\n",
      "44/44 [==============================] - 0s 697us/step - loss: 0.0413 - val_loss: 0.0465\n",
      "Epoch 4/100\n",
      "44/44 [==============================] - 0s 692us/step - loss: 0.0409 - val_loss: 0.0461\n",
      "Epoch 5/100\n",
      "44/44 [==============================] - 0s 656us/step - loss: 0.0405 - val_loss: 0.0456\n",
      "Epoch 6/100\n",
      "44/44 [==============================] - 0s 652us/step - loss: 0.0400 - val_loss: 0.0451\n",
      "Epoch 7/100\n",
      "44/44 [==============================] - 0s 655us/step - loss: 0.0395 - val_loss: 0.0444\n",
      "Epoch 8/100\n",
      "44/44 [==============================] - 0s 658us/step - loss: 0.0388 - val_loss: 0.0437\n",
      "Epoch 9/100\n",
      "44/44 [==============================] - 0s 672us/step - loss: 0.0381 - val_loss: 0.0428\n",
      "Epoch 10/100\n",
      "44/44 [==============================] - 0s 705us/step - loss: 0.0371 - val_loss: 0.0416\n",
      "Epoch 11/100\n",
      "44/44 [==============================] - 0s 684us/step - loss: 0.0359 - val_loss: 0.0400\n",
      "Epoch 12/100\n",
      "44/44 [==============================] - 0s 680us/step - loss: 0.0342 - val_loss: 0.0378\n",
      "Epoch 13/100\n",
      "44/44 [==============================] - 0s 707us/step - loss: 0.0318 - val_loss: 0.0347\n",
      "Epoch 14/100\n",
      "44/44 [==============================] - 0s 687us/step - loss: 0.0286 - val_loss: 0.0308\n",
      "Epoch 15/100\n",
      "44/44 [==============================] - 0s 660us/step - loss: 0.0251 - val_loss: 0.0266\n",
      "Epoch 16/100\n",
      "44/44 [==============================] - 0s 650us/step - loss: 0.0213 - val_loss: 0.0220\n",
      "Epoch 17/100\n",
      "44/44 [==============================] - 0s 670us/step - loss: 0.0173 - val_loss: 0.0174\n",
      "Epoch 18/100\n",
      "44/44 [==============================] - 0s 676us/step - loss: 0.0134 - val_loss: 0.0131\n",
      "Epoch 19/100\n",
      "44/44 [==============================] - 0s 663us/step - loss: 0.0100 - val_loss: 0.0096\n",
      "Epoch 20/100\n",
      "44/44 [==============================] - 0s 674us/step - loss: 0.0073 - val_loss: 0.0069\n",
      "Epoch 21/100\n",
      "44/44 [==============================] - 0s 686us/step - loss: 0.0054 - val_loss: 0.0051\n",
      "Epoch 22/100\n",
      "44/44 [==============================] - 0s 670us/step - loss: 0.0040 - val_loss: 0.0040\n",
      "Epoch 23/100\n",
      "44/44 [==============================] - 0s 669us/step - loss: 0.0032 - val_loss: 0.0032\n",
      "Epoch 24/100\n",
      "44/44 [==============================] - 0s 666us/step - loss: 0.0026 - val_loss: 0.0026\n",
      "Epoch 25/100\n",
      "44/44 [==============================] - 0s 675us/step - loss: 0.0022 - val_loss: 0.0023\n",
      "Epoch 26/100\n",
      "44/44 [==============================] - 0s 679us/step - loss: 0.0019 - val_loss: 0.0020\n",
      "Epoch 27/100\n",
      "44/44 [==============================] - 0s 659us/step - loss: 0.0016 - val_loss: 0.0018\n",
      "Epoch 28/100\n",
      "44/44 [==============================] - 0s 662us/step - loss: 0.0015 - val_loss: 0.0016\n",
      "Epoch 29/100\n",
      "44/44 [==============================] - 0s 667us/step - loss: 0.0013 - val_loss: 0.0014\n",
      "Epoch 30/100\n",
      "44/44 [==============================] - 0s 664us/step - loss: 0.0012 - val_loss: 0.0013\n",
      "Epoch 31/100\n",
      "44/44 [==============================] - 0s 667us/step - loss: 0.0011 - val_loss: 0.0012\n",
      "Epoch 32/100\n",
      "44/44 [==============================] - 0s 669us/step - loss: 0.0010 - val_loss: 0.0011\n",
      "Epoch 33/100\n",
      "44/44 [==============================] - 0s 675us/step - loss: 9.4744e-04 - val_loss: 0.0011\n",
      "Epoch 34/100\n",
      "44/44 [==============================] - 0s 670us/step - loss: 8.8630e-04 - val_loss: 9.8831e-04\n",
      "Epoch 35/100\n",
      "44/44 [==============================] - 0s 668us/step - loss: 8.3345e-04 - val_loss: 9.2870e-04\n",
      "Epoch 36/100\n",
      "44/44 [==============================] - 0s 674us/step - loss: 7.8693e-04 - val_loss: 8.7592e-04\n",
      "Epoch 37/100\n",
      "44/44 [==============================] - 0s 658us/step - loss: 7.4620e-04 - val_loss: 8.2993e-04\n",
      "Epoch 38/100\n",
      "44/44 [==============================] - 0s 667us/step - loss: 7.1033e-04 - val_loss: 7.8961e-04\n",
      "Epoch 39/100\n",
      "44/44 [==============================] - 0s 662us/step - loss: 6.7752e-04 - val_loss: 7.5483e-04\n",
      "Epoch 40/100\n",
      "44/44 [==============================] - 0s 687us/step - loss: 6.4695e-04 - val_loss: 7.2410e-04\n",
      "Epoch 41/100\n",
      "44/44 [==============================] - 0s 676us/step - loss: 6.1977e-04 - val_loss: 6.9623e-04\n",
      "Epoch 42/100\n",
      "44/44 [==============================] - 0s 674us/step - loss: 5.9569e-04 - val_loss: 6.7108e-04\n",
      "Epoch 43/100\n",
      "44/44 [==============================] - 0s 650us/step - loss: 5.7393e-04 - val_loss: 6.4776e-04\n",
      "Epoch 44/100\n",
      "44/44 [==============================] - 0s 646us/step - loss: 5.5406e-04 - val_loss: 6.2628e-04\n",
      "Epoch 45/100\n",
      "44/44 [==============================] - 0s 658us/step - loss: 5.3602e-04 - val_loss: 6.0649e-04\n",
      "Epoch 46/100\n",
      "44/44 [==============================] - 0s 650us/step - loss: 5.1973e-04 - val_loss: 5.8825e-04\n",
      "Epoch 47/100\n",
      "44/44 [==============================] - 0s 651us/step - loss: 5.0484e-04 - val_loss: 5.7151e-04\n",
      "Epoch 48/100\n",
      "44/44 [==============================] - 0s 649us/step - loss: 4.9110e-04 - val_loss: 5.5602e-04\n",
      "Epoch 49/100\n",
      "44/44 [==============================] - 0s 649us/step - loss: 4.7821e-04 - val_loss: 5.4139e-04\n",
      "Epoch 50/100\n",
      "44/44 [==============================] - 0s 648us/step - loss: 4.6617e-04 - val_loss: 5.2738e-04\n",
      "Epoch 51/100\n",
      "44/44 [==============================] - 0s 659us/step - loss: 4.5489e-04 - val_loss: 5.1412e-04\n",
      "Epoch 52/100\n",
      "44/44 [==============================] - 0s 650us/step - loss: 4.4430e-04 - val_loss: 5.0176e-04\n",
      "Epoch 53/100\n",
      "44/44 [==============================] - 0s 644us/step - loss: 4.3457e-04 - val_loss: 4.9042e-04\n",
      "Epoch 54/100\n",
      "44/44 [==============================] - 0s 646us/step - loss: 4.2547e-04 - val_loss: 4.7967e-04\n",
      "Epoch 55/100\n",
      "44/44 [==============================] - 0s 702us/step - loss: 4.1698e-04 - val_loss: 4.6970e-04\n",
      "Epoch 56/100\n",
      "44/44 [==============================] - 0s 723us/step - loss: 4.0901e-04 - val_loss: 4.6023e-04\n",
      "Epoch 57/100\n",
      "44/44 [==============================] - 0s 742us/step - loss: 4.0148e-04 - val_loss: 4.5151e-04\n",
      "Epoch 58/100\n",
      "44/44 [==============================] - 0s 664us/step - loss: 3.9432e-04 - val_loss: 4.4339e-04\n",
      "Epoch 59/100\n",
      "44/44 [==============================] - 0s 662us/step - loss: 3.8764e-04 - val_loss: 4.3578e-04\n",
      "Epoch 60/100\n",
      "44/44 [==============================] - 0s 662us/step - loss: 3.8141e-04 - val_loss: 4.2863e-04\n",
      "Epoch 61/100\n",
      "44/44 [==============================] - 0s 668us/step - loss: 3.7549e-04 - val_loss: 4.2194e-04\n",
      "Epoch 62/100\n",
      "44/44 [==============================] - 0s 667us/step - loss: 3.6988e-04 - val_loss: 4.1562e-04\n",
      "Epoch 63/100\n",
      "44/44 [==============================] - 0s 666us/step - loss: 3.6445e-04 - val_loss: 4.0966e-04\n",
      "Epoch 64/100\n",
      "44/44 [==============================] - 0s 664us/step - loss: 3.5911e-04 - val_loss: 4.0392e-04\n",
      "Epoch 65/100\n",
      "44/44 [==============================] - 0s 688us/step - loss: 3.5397e-04 - val_loss: 3.9850e-04\n",
      "Epoch 66/100\n",
      "44/44 [==============================] - 0s 683us/step - loss: 3.4888e-04 - val_loss: 3.9313e-04\n",
      "Epoch 67/100\n",
      "44/44 [==============================] - 0s 702us/step - loss: 3.4380e-04 - val_loss: 3.8777e-04\n",
      "Epoch 68/100\n",
      "44/44 [==============================] - 0s 685us/step - loss: 3.3878e-04 - val_loss: 3.8225e-04\n",
      "Epoch 69/100\n",
      "44/44 [==============================] - 0s 678us/step - loss: 3.3401e-04 - val_loss: 3.7709e-04\n",
      "Epoch 70/100\n",
      "44/44 [==============================] - 0s 681us/step - loss: 3.2947e-04 - val_loss: 3.7216e-04\n",
      "Epoch 71/100\n",
      "44/44 [==============================] - 0s 687us/step - loss: 3.2510e-04 - val_loss: 3.6744e-04\n",
      "Epoch 72/100\n",
      "44/44 [==============================] - 0s 681us/step - loss: 3.2087e-04 - val_loss: 3.6288e-04\n",
      "Epoch 73/100\n",
      "44/44 [==============================] - 0s 683us/step - loss: 3.1676e-04 - val_loss: 3.5856e-04\n",
      "Epoch 74/100\n",
      "44/44 [==============================] - 0s 657us/step - loss: 3.1283e-04 - val_loss: 3.5444e-04\n",
      "Epoch 75/100\n",
      "44/44 [==============================] - 0s 652us/step - loss: 3.0911e-04 - val_loss: 3.5048e-04\n",
      "Epoch 76/100\n",
      "44/44 [==============================] - 0s 649us/step - loss: 3.0560e-04 - val_loss: 3.4666e-04\n",
      "Epoch 77/100\n"
     ]
    },
    {
     "name": "stdout",
     "output_type": "stream",
     "text": [
      "44/44 [==============================] - 0s 651us/step - loss: 3.0221e-04 - val_loss: 3.4283e-04\n",
      "Epoch 78/100\n",
      "44/44 [==============================] - 0s 648us/step - loss: 2.9893e-04 - val_loss: 3.3914e-04\n",
      "Epoch 79/100\n",
      "44/44 [==============================] - 0s 646us/step - loss: 2.9579e-04 - val_loss: 3.3557e-04\n",
      "Epoch 80/100\n",
      "44/44 [==============================] - 0s 663us/step - loss: 2.9277e-04 - val_loss: 3.3206e-04\n",
      "Epoch 81/100\n",
      "44/44 [==============================] - 0s 653us/step - loss: 2.8980e-04 - val_loss: 3.2863e-04\n",
      "Epoch 82/100\n",
      "44/44 [==============================] - 0s 654us/step - loss: 2.8688e-04 - val_loss: 3.2529e-04\n",
      "Epoch 83/100\n",
      "44/44 [==============================] - 0s 657us/step - loss: 2.8404e-04 - val_loss: 3.2207e-04\n",
      "Epoch 84/100\n",
      "44/44 [==============================] - 0s 663us/step - loss: 2.8131e-04 - val_loss: 3.1903e-04\n",
      "Epoch 85/100\n",
      "44/44 [==============================] - 0s 667us/step - loss: 2.7865e-04 - val_loss: 3.1611e-04\n",
      "Epoch 86/100\n",
      "44/44 [==============================] - 0s 672us/step - loss: 2.7602e-04 - val_loss: 3.1322e-04\n",
      "Epoch 87/100\n",
      "44/44 [==============================] - 0s 660us/step - loss: 2.7346e-04 - val_loss: 3.1052e-04\n",
      "Epoch 88/100\n",
      "44/44 [==============================] - 0s 685us/step - loss: 2.7100e-04 - val_loss: 3.0777e-04\n",
      "Epoch 89/100\n",
      "44/44 [==============================] - 0s 676us/step - loss: 2.6859e-04 - val_loss: 3.0506e-04\n",
      "Epoch 90/100\n",
      "44/44 [==============================] - 0s 674us/step - loss: 2.6623e-04 - val_loss: 3.0244e-04\n",
      "Epoch 91/100\n",
      "44/44 [==============================] - 0s 671us/step - loss: 2.6394e-04 - val_loss: 2.9991e-04\n",
      "Epoch 92/100\n",
      "44/44 [==============================] - 0s 677us/step - loss: 2.6171e-04 - val_loss: 2.9741e-04\n",
      "Epoch 93/100\n",
      "44/44 [==============================] - 0s 668us/step - loss: 2.5957e-04 - val_loss: 2.9496e-04\n",
      "Epoch 94/100\n",
      "44/44 [==============================] - 0s 674us/step - loss: 2.5749e-04 - val_loss: 2.9266e-04\n",
      "Epoch 95/100\n",
      "44/44 [==============================] - 0s 668us/step - loss: 2.5545e-04 - val_loss: 2.9044e-04\n",
      "Epoch 96/100\n",
      "44/44 [==============================] - 0s 678us/step - loss: 2.5344e-04 - val_loss: 2.8828e-04\n",
      "Epoch 97/100\n",
      "44/44 [==============================] - 0s 702us/step - loss: 2.5147e-04 - val_loss: 2.8625e-04\n",
      "Epoch 98/100\n",
      "44/44 [==============================] - 0s 681us/step - loss: 2.4954e-04 - val_loss: 2.8427e-04\n",
      "Epoch 99/100\n",
      "44/44 [==============================] - 0s 678us/step - loss: 2.4766e-04 - val_loss: 2.8237e-04\n",
      "Epoch 100/100\n",
      "44/44 [==============================] - 0s 683us/step - loss: 2.4582e-04 - val_loss: 2.8050e-04\n"
     ]
    }
   ],
   "source": [
    "model = Sequential()\n",
    "model.add(Dense(20, activation='relu', input_dim=26))\n",
    "model.add(Dense(10, activation='relu'))\n",
    "model.add(Dense(5, activation='softmax'))\n",
    "model.add(Dense(1))\n",
    "\n",
    "sgd = SGD(lr=0.1)\n",
    "model.compile(sgd, loss='mean_squared_error')\n",
    "history = model.fit(training_x, training_y, validation_data=(validation_x, validation_y), validation_steps=10, steps_per_epoch=44, epochs=100)"
   ]
  },
  {
   "cell_type": "code",
   "execution_count": 153,
   "metadata": {},
   "outputs": [
    {
     "name": "stdout",
     "output_type": "stream",
     "text": [
      "128/128 [==============================] - 0s 386us/step\n",
      "MSE: 0.00013832\n"
     ]
    }
   ],
   "source": [
    "print(\"MSE: %.8f\" % model.evaluate(test_x, test_y, steps=128))"
   ]
  },
  {
   "cell_type": "code",
   "execution_count": 156,
   "metadata": {},
   "outputs": [
    {
     "data": {
      "image/png": "[encoded data removed]",
      "text/plain": [
       "<Figure size 432x288 with 1 Axes>"
      ]
     },
     "metadata": {
      "needs_background": "light"
     },
     "output_type": "display_data"
    }
   ],
   "source": [
    "plt.plot(history.history['loss'])\n",
    "plt.plot(history.history['val_loss'])\n",
    "plt.title('Model MSE')\n",
    "plt.ylabel('MSE')\n",
    "plt.xlabel('epoch')\n",
    "plt.legend(['train', 'validate'], loc='upper right')\n",
    "plt.show()"
   ]
  },
  {
   "cell_type": "code",
   "execution_count": null,
   "metadata": {},
   "outputs": [],
   "source": []
  }
 ],
 "metadata": {
  "kernelspec": {
   "display_name": "Python 3",
   "language": "python",
   "name": "python3"
  },
  "language_info": {
   "codemirror_mode": {
    "name": "ipython",
    "version": 3
   },
   "file_extension": ".py",
   "mimetype": "text/x-python",
   "name": "python",
   "nbconvert_exporter": "python",
   "pygments_lexer": "ipython3",
   "version": "3.6.6"
  }
 },
 "nbformat": 4,
 "nbformat_minor": 2
}
